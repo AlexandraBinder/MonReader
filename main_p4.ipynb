{
 "cells": [
  {
   "cell_type": "markdown",
   "metadata": {},
   "source": [
    "# Project 4 - Monreader"
   ]
  },
  {
   "cell_type": "markdown",
   "metadata": {},
   "source": [
    "**Introduction:**\n",
    "\n",
    "MonReader is a new mobile document digitization experience for the blind, for researchers and for everyone else in need for fully automatic, highly fast and high-quality document scanning in bulk. It is composed of a mobile app and all the user needs to do is flip pages and everything is handled by MonReader: it detects page flips from low-resolution camera preview and takes a high-resolution picture of the document, recognizing its corners and crops it accordingly, and it dewarps the cropped document to obtain a bird's eye view, sharpens the contrast between the text and the background and finally recognizes the text with formatting kept intact, being further corrected by MonReader's ML powered redactor.\n",
    "\n",
    "**Data Description:**\n",
    "\n",
    "Data consiste of page flipping videos from smart phones. These are labelled as flipping and not flipping. These were posteriorly clipped as short videos and again labelled as flipping or not flipping. The extracted frames were then saved to disk in a sequential order with the following naming structure: VideoID_FrameNumber\n",
    "\n",
    "**Goal(s):**\n",
    "\n",
    "Predict if the page is being flipped using a single image.\n",
    "\n",
    "**Success Metrics:**\n",
    "\n",
    "Evaluate model performance based on F1 score, the higher the better.\n",
    "\n",
    "**Bonus(es):**\n",
    "\n",
    "Predict if a given sequence of images contains an action of flipping."
   ]
  },
  {
   "cell_type": "code",
   "execution_count": 1,
   "metadata": {},
   "outputs": [],
   "source": [
    "import os\n",
    "import pandas as pd\n",
    "import numpy as np\n",
    "import sys\n",
    "\n",
    "sys.path.append('../')\n",
    "\n",
    "from utils import get_data_csv"
   ]
  },
  {
   "cell_type": "code",
   "execution_count": 2,
   "metadata": {},
   "outputs": [],
   "source": [
    "%load_ext autoreload\n",
    "# %reload_ext autoreload\n",
    "%autoreload 2"
   ]
  },
  {
   "cell_type": "code",
   "execution_count": 79,
   "metadata": {},
   "outputs": [],
   "source": [
    "DATA_PATH = 'images'\n",
    "df_train = get_data_csv(os.path.join(DATA_PATH, 'train'))\n",
    "df_test =  get_data_csv(os.path.join(DATA_PATH, 'test'))\n",
    "\n",
    "df_train.to_csv('datasets/df_train.csv', index=False)\n",
    "df_test.to_csv('datasets/df_test.csv', index=False)"
   ]
  }
 ],
 "metadata": {
  "kernelspec": {
   "display_name": "Python 3.10.4 ('apziva-p1')",
   "language": "python",
   "name": "python3"
  },
  "language_info": {
   "codemirror_mode": {
    "name": "ipython",
    "version": 3
   },
   "file_extension": ".py",
   "mimetype": "text/x-python",
   "name": "python",
   "nbconvert_exporter": "python",
   "pygments_lexer": "ipython3",
   "version": "3.10.4"
  },
  "orig_nbformat": 4,
  "vscode": {
   "interpreter": {
    "hash": "0d58a6346ebf7422e603e868fb3854851aa5811b3024e6952b5df4a7c1ed6fa8"
   }
  }
 },
 "nbformat": 4,
 "nbformat_minor": 2
}
